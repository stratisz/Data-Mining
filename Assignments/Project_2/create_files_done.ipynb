{
 "cells": [
  {
   "cell_type": "markdown",
   "metadata": {},
   "source": [
    "# Εργασία 2 ΤΕΔεδομένων"
   ]
  },
  {
   "cell_type": "markdown",
   "metadata": {},
   "source": [
    "Κωνσταντίνος Σκορδούλης 1115201600155\n",
    "\n",
    "Ευστράτιος Ζωγραφάκης 1115201600049"
   ]
  },
  {
   "cell_type": "code",
   "execution_count": 1,
   "metadata": {},
   "outputs": [],
   "source": [
    "import pandas as pd\n",
    "import os"
   ]
  },
  {
   "cell_type": "markdown",
   "metadata": {},
   "source": [
    "Creating our dataset (all the files)"
   ]
  },
  {
   "cell_type": "code",
   "execution_count": 2,
   "metadata": {},
   "outputs": [
    {
     "data": {
      "text/plain": [
       "'./fulltext/data/README.TXT'"
      ]
     },
     "execution_count": 2,
     "metadata": {},
     "output_type": "execute_result"
    }
   ],
   "source": [
    "file_list = []\n",
    "\n",
    "for root,dir,files in os.walk(\"./fulltext/data\"):\n",
    "\n",
    "    for f in files:\n",
    "        if(f == './fulltext/data/README.TXT'):\n",
    "            continue\n",
    "        \n",
    "        x = os.path.join(root,f)\n",
    "        x = x.replace(\"\\\\\",\"/\")\n",
    "        file_list.append(x)\n",
    "\n",
    "        \n",
    "file_list.pop(0)        \n"
   ]
  },
  {
   "cell_type": "code",
   "execution_count": 3,
   "metadata": {},
   "outputs": [],
   "source": [
    "def read_file(file_name):\n",
    "    \n",
    "    #unicode escape, because a certain file throws out error\n",
    "    fp = open(file_name,\"r\", encoding='unicode_escape' )\n",
    "    \n",
    "    line_list = fp.readlines()\n",
    "\n",
    "    #break text into title and content\n",
    "    title = line_list[0]\n",
    "    title = title.replace('\\n',' ')\n",
    "    \n",
    "    \n",
    "    content = \"\".join(line_list[1:])\n",
    "    content = content.replace('\\n',' ')\n",
    "    \n",
    "    temp_list = file_name.split('/')\n",
    "    category = temp_list[3]    \n",
    "    \n",
    "    fp.close()\n",
    "    return [title,content,category]"
   ]
  },
  {
   "cell_type": "markdown",
   "metadata": {},
   "source": [
    "Create dataframe of dataset"
   ]
  },
  {
   "cell_type": "code",
   "execution_count": 4,
   "metadata": {},
   "outputs": [
    {
     "data": {
      "text/html": [
       "<div>\n",
       "<style scoped>\n",
       "    .dataframe tbody tr th:only-of-type {\n",
       "        vertical-align: middle;\n",
       "    }\n",
       "\n",
       "    .dataframe tbody tr th {\n",
       "        vertical-align: top;\n",
       "    }\n",
       "\n",
       "    .dataframe thead th {\n",
       "        text-align: right;\n",
       "    }\n",
       "</style>\n",
       "<table border=\"1\" class=\"dataframe\">\n",
       "  <thead>\n",
       "    <tr style=\"text-align: right;\">\n",
       "      <th></th>\n",
       "      <th>Title</th>\n",
       "      <th>Content</th>\n",
       "      <th>Category</th>\n",
       "      <th>Id</th>\n",
       "    </tr>\n",
       "  </thead>\n",
       "  <tbody>\n",
       "    <tr>\n",
       "      <th>0</th>\n",
       "      <td>Ad sales boost Time Warner profit</td>\n",
       "      <td>Quarterly profits at US media giant TimeWarne...</td>\n",
       "      <td>business</td>\n",
       "      <td>0</td>\n",
       "    </tr>\n",
       "    <tr>\n",
       "      <th>1</th>\n",
       "      <td>Dollar gains on Greenspan speech</td>\n",
       "      <td>The dollar has hit its highest level against ...</td>\n",
       "      <td>business</td>\n",
       "      <td>1</td>\n",
       "    </tr>\n",
       "    <tr>\n",
       "      <th>2</th>\n",
       "      <td>Yukos unit buyer faces loan claim</td>\n",
       "      <td>The owners of embattled Russian oil giant Yuk...</td>\n",
       "      <td>business</td>\n",
       "      <td>2</td>\n",
       "    </tr>\n",
       "    <tr>\n",
       "      <th>3</th>\n",
       "      <td>High fuel prices hit BA's profits</td>\n",
       "      <td>British Airways has blamed high fuel prices f...</td>\n",
       "      <td>business</td>\n",
       "      <td>3</td>\n",
       "    </tr>\n",
       "    <tr>\n",
       "      <th>4</th>\n",
       "      <td>Pernod takeover talk lifts Domecq</td>\n",
       "      <td>Shares in UK drinks and food firm Allied Dome...</td>\n",
       "      <td>business</td>\n",
       "      <td>4</td>\n",
       "    </tr>\n",
       "    <tr>\n",
       "      <th>...</th>\n",
       "      <td>...</td>\n",
       "      <td>...</td>\n",
       "      <td>...</td>\n",
       "      <td>...</td>\n",
       "    </tr>\n",
       "    <tr>\n",
       "      <th>2220</th>\n",
       "      <td>BT program to beat dialler scams</td>\n",
       "      <td>BT is introducing two initiatives to help bea...</td>\n",
       "      <td>tech</td>\n",
       "      <td>2220</td>\n",
       "    </tr>\n",
       "    <tr>\n",
       "      <th>2221</th>\n",
       "      <td>Spam e-mails tempt net shoppers</td>\n",
       "      <td>Computer users across the world continue to i...</td>\n",
       "      <td>tech</td>\n",
       "      <td>2221</td>\n",
       "    </tr>\n",
       "    <tr>\n",
       "      <th>2222</th>\n",
       "      <td>Be careful how you code</td>\n",
       "      <td>A new European directive could put software w...</td>\n",
       "      <td>tech</td>\n",
       "      <td>2222</td>\n",
       "    </tr>\n",
       "    <tr>\n",
       "      <th>2223</th>\n",
       "      <td>US cyber security chief resigns</td>\n",
       "      <td>The man making sure US computer networks are ...</td>\n",
       "      <td>tech</td>\n",
       "      <td>2223</td>\n",
       "    </tr>\n",
       "    <tr>\n",
       "      <th>2224</th>\n",
       "      <td>Losing yourself in online gaming</td>\n",
       "      <td>Online role playing games are time-consuming,...</td>\n",
       "      <td>tech</td>\n",
       "      <td>2224</td>\n",
       "    </tr>\n",
       "  </tbody>\n",
       "</table>\n",
       "<p>2225 rows × 4 columns</p>\n",
       "</div>"
      ],
      "text/plain": [
       "                                   Title  \\\n",
       "0     Ad sales boost Time Warner profit    \n",
       "1      Dollar gains on Greenspan speech    \n",
       "2     Yukos unit buyer faces loan claim    \n",
       "3     High fuel prices hit BA's profits    \n",
       "4     Pernod takeover talk lifts Domecq    \n",
       "...                                  ...   \n",
       "2220   BT program to beat dialler scams    \n",
       "2221    Spam e-mails tempt net shoppers    \n",
       "2222            Be careful how you code    \n",
       "2223    US cyber security chief resigns    \n",
       "2224   Losing yourself in online gaming    \n",
       "\n",
       "                                                Content  Category    Id  \n",
       "0      Quarterly profits at US media giant TimeWarne...  business     0  \n",
       "1      The dollar has hit its highest level against ...  business     1  \n",
       "2      The owners of embattled Russian oil giant Yuk...  business     2  \n",
       "3      British Airways has blamed high fuel prices f...  business     3  \n",
       "4      Shares in UK drinks and food firm Allied Dome...  business     4  \n",
       "...                                                 ...       ...   ...  \n",
       "2220   BT is introducing two initiatives to help bea...      tech  2220  \n",
       "2221   Computer users across the world continue to i...      tech  2221  \n",
       "2222   A new European directive could put software w...      tech  2222  \n",
       "2223   The man making sure US computer networks are ...      tech  2223  \n",
       "2224   Online role playing games are time-consuming,...      tech  2224  \n",
       "\n",
       "[2225 rows x 4 columns]"
      ]
     },
     "execution_count": 4,
     "metadata": {},
     "output_type": "execute_result"
    }
   ],
   "source": [
    "temp_ll = []\n",
    "\n",
    "for f in file_list:\n",
    "    \n",
    "    result = read_file(f)\n",
    "    temp_ll.append(result)    \n",
    "\n",
    "articles_df = pd.DataFrame.from_records(temp_ll,columns=['Title','Content','Category'])\n",
    "articles_df['Id'] = articles_df.index #the indices are the id of each article\n",
    "\n",
    "\n",
    "articles_df.to_csv('all_articles.tsv',sep='\\t')\n",
    "articles_df"
   ]
  },
  {
   "cell_type": "markdown",
   "metadata": {},
   "source": [
    "Spliting our dataset (train_set, test_set)"
   ]
  },
  {
   "cell_type": "code",
   "execution_count": 5,
   "metadata": {},
   "outputs": [],
   "source": [
    "import sklearn.model_selection"
   ]
  },
  {
   "cell_type": "markdown",
   "metadata": {},
   "source": [
    "Train_test_split() με χρήση της παραμέτρου 'stratify' , για να εξασφαλίσουμε πως και οι 5 κλάσεις θα εμφανιστούν στα  train και test δεδομένα\n",
    "\n",
    "X: Title,Content\n",
    "\n",
    "Y: Category"
   ]
  },
  {
   "cell_type": "code",
   "execution_count": 6,
   "metadata": {},
   "outputs": [],
   "source": [
    "Iris_x = articles_df[ ['Title','Content'] ]\n",
    "\n",
    "Iris_y = articles_df['Category']"
   ]
  },
  {
   "cell_type": "code",
   "execution_count": 12,
   "metadata": {},
   "outputs": [
    {
     "name": "stderr",
     "output_type": "stream",
     "text": [
      "C:\\Users\\kostantinos\\anaconda3\\lib\\site-packages\\ipykernel_launcher.py:6: SettingWithCopyWarning: \n",
      "A value is trying to be set on a copy of a slice from a DataFrame.\n",
      "Try using .loc[row_indexer,col_indexer] = value instead\n",
      "\n",
      "See the caveats in the documentation: https://pandas.pydata.org/pandas-docs/stable/user_guide/indexing.html#returning-a-view-versus-a-copy\n",
      "  \n",
      "C:\\Users\\kostantinos\\anaconda3\\lib\\site-packages\\ipykernel_launcher.py:7: SettingWithCopyWarning: \n",
      "A value is trying to be set on a copy of a slice from a DataFrame.\n",
      "Try using .loc[row_indexer,col_indexer] = value instead\n",
      "\n",
      "See the caveats in the documentation: https://pandas.pydata.org/pandas-docs/stable/user_guide/indexing.html#returning-a-view-versus-a-copy\n",
      "  import sys\n",
      "C:\\Users\\kostantinos\\anaconda3\\lib\\site-packages\\ipykernel_launcher.py:9: SettingWithCopyWarning: \n",
      "A value is trying to be set on a copy of a slice from a DataFrame.\n",
      "Try using .loc[row_indexer,col_indexer] = value instead\n",
      "\n",
      "See the caveats in the documentation: https://pandas.pydata.org/pandas-docs/stable/user_guide/indexing.html#returning-a-view-versus-a-copy\n",
      "  if __name__ == '__main__':\n"
     ]
    }
   ],
   "source": [
    "X_train,X_test,Y_train,Y_test = sklearn.model_selection.train_test_split(Iris_x, Iris_y, train_size=0.8, test_size=0.2, stratify=Iris_y )\n",
    "#X_train,X_test,Y_train,Y_test = sklearn.model_selection.train_test_split(Iris_x, Iris_y, train_size=80, test_size=20, stratify=Iris_y )\n",
    "\n",
    "#HERE\n",
    "\n",
    "X_train['Id'] = X_train.index\n",
    "X_train['Category'] = Y_train\n",
    "\n",
    "X_test['Id'] = X_test.index"
   ]
  },
  {
   "cell_type": "markdown",
   "metadata": {},
   "source": [
    "Read file, and return [title,content,category]"
   ]
  },
  {
   "cell_type": "code",
   "execution_count": 13,
   "metadata": {},
   "outputs": [],
   "source": [
    "columns_training = ['Id','Title','Content','Category']\n",
    "\n",
    "columns_test = ['Id','Title','Content']"
   ]
  },
  {
   "cell_type": "markdown",
   "metadata": {},
   "source": [
    "Create train_set.tsv"
   ]
  },
  {
   "cell_type": "code",
   "execution_count": 14,
   "metadata": {},
   "outputs": [],
   "source": [
    "train_df = X_train[['Id','Title','Content','Category']]\n",
    "\n",
    "#train_df.to_csv('train_set_testing.tsv',sep='\\t') #HERE\n",
    "train_df.to_csv('train_set.tsv',sep='\\t')\n",
    "\n",
    "#train_df"
   ]
  },
  {
   "cell_type": "markdown",
   "metadata": {},
   "source": [
    "Create test_set.tsv"
   ]
  },
  {
   "cell_type": "code",
   "execution_count": 15,
   "metadata": {},
   "outputs": [],
   "source": [
    "test_df = X_test[['Id','Title','Content']]\n",
    "\n",
    "#test_df.to_csv('test_set_testing.tsv',sep='\\t') #HERE\n",
    "test_df.to_csv('test_set.tsv',sep='\\t')\n",
    "\n",
    "#test_df"
   ]
  },
  {
   "cell_type": "markdown",
   "metadata": {},
   "source": [
    "Create Y_test.tsv"
   ]
  },
  {
   "cell_type": "code",
   "execution_count": 16,
   "metadata": {},
   "outputs": [],
   "source": [
    "Y_test_df = Y_test\n",
    "\n",
    "#Y_test_df.to_csv('Y_test_testing.tsv',sep='\\t') # HERE\n",
    "Y_test_df.to_csv('Y_test.tsv',sep='\\t')"
   ]
  }
 ],
 "metadata": {
  "kernelspec": {
   "display_name": "Python 3",
   "language": "python",
   "name": "python3"
  },
  "language_info": {
   "codemirror_mode": {
    "name": "ipython",
    "version": 3
   },
   "file_extension": ".py",
   "mimetype": "text/x-python",
   "name": "python",
   "nbconvert_exporter": "python",
   "pygments_lexer": "ipython3",
   "version": "3.7.6"
  }
 },
 "nbformat": 4,
 "nbformat_minor": 4
}
